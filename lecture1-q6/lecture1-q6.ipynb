{
 "cells": [
  {
   "cell_type": "markdown",
   "metadata": {},
   "source": [
    "In this exercise, we explore how one can cheat with a quantum computer in a classical well known game:\n",
    "The coin toss game.\n",
    "In this kind of games, two players take turns flipping a coin. The goal is to predict whether the coin will\n",
    "land on heads or tails. Assume that the computer plays first and then you play second and then the\n",
    "computer, to play fair, can play again. If the coin at the end is 0 the computer win and if is 1 then you\n",
    "win.\n",
    "\n",
    "### 1-Provide a python program that simulates the game and conclude that the game is fair.\n",
    "Regular Python code running cointoss and quantum version of it"
   ]
  },
  {
   "cell_type": "code",
   "execution_count": 5,
   "metadata": {},
   "outputs": [
    {
     "name": "stdout",
     "output_type": "stream",
     "text": [
      "player won  662 times\n"
     ]
    }
   ],
   "source": [
    "import random\n",
    "\n",
    "def coin_toss():\n",
    "    return random.randint(0, 1)\n",
    "\n",
    "def play_game():\n",
    "    computer_bet = 0\n",
    "    player_bet = 1\n",
    "    \n",
    "    # computer plays:\n",
    "    coin_val = coin_toss()\n",
    "\n",
    "    # player plays\n",
    "    if coin_val == computer_bet: \n",
    "        coin_val = coin_toss()\n",
    "\n",
    "        #computer plays\n",
    "        if coin_val == player_bet:\n",
    "            coin_val = coin_toss()\n",
    "    \n",
    "    return coin_val\n",
    "\n",
    "n = 0\n",
    "for _ in range(1000):\n",
    "    val = play_game()\n",
    "    n += val\n",
    "\n",
    "print(\"player won \", n, \"times\")"
   ]
  },
  {
   "cell_type": "code",
   "execution_count": 6,
   "metadata": {},
   "outputs": [
    {
     "name": "stdout",
     "output_type": "stream",
     "text": [
      "player won  57 times\n"
     ]
    }
   ],
   "source": [
    "from qiskit import *\n",
    "from qiskit_aer import Aer\n",
    "import numpy as np\n",
    "\n",
    "def coin_toss():\n",
    "    qbit = QuantumRegister(1, 'qubit')\n",
    "    cbit = ClassicalRegister(1, 'classical')\n",
    "    qc = QuantumCircuit(qbit,cbit)\n",
    "    initial_state = 0\n",
    "    qc.initialize(initial_state, 0)\n",
    "    qc.h(0)\n",
    "    res = qc.measure(0,0)\n",
    "    simulator = Aer.get_backend('qasm_simulator')\n",
    "    circ = transpile(qc, simulator)\n",
    "    result = simulator.run(circ, shots=1).result()\n",
    "    counts = result.get_counts(circ)\n",
    "    if '0' in counts:\n",
    "        return 0\n",
    "    else:\n",
    "        return 1\n",
    "\n",
    "def play_game():\n",
    "    computer_bet = 0\n",
    "    player_bet = 1\n",
    "    \n",
    "    # computer plays:\n",
    "    coin_val = coin_toss()\n",
    "\n",
    "    # player plays\n",
    "    if coin_val == computer_bet: \n",
    "        coin_val = coin_toss()\n",
    "\n",
    "        #computer plays\n",
    "        if coin_val == player_bet:\n",
    "            coin_val = coin_toss()\n",
    "    \n",
    "\n",
    "    return coin_val\n",
    "\n",
    "n = 0\n",
    "for _ in range(100):\n",
    "    val = play_game()\n",
    "    n += val\n",
    "    \n",
    "print(\"player won \", n, \"times\")"
   ]
  },
  {
   "cell_type": "markdown",
   "metadata": {},
   "source": [
    "### 2 - Now, think of a quantum strategy that would allow the computer to always win. Explain you thinking."
   ]
  },
  {
   "cell_type": "markdown",
   "metadata": {},
   "source": [
    "#### Answer:\n",
    "For the regular coin toss we do use the Hadamard gate. It does put the qubit that was in the base state 0 in an equal superposition of states 1 and 0. So two interesting strategies would be: \n",
    "- to to the reverse operation. Set the initial state to that superposition and then apply the hadamard gate.\n",
    "- leave the initial state as 0 and apply Hadamard gate twice\n",
    "\n",
    "for the first if the PC is picking 0 as a result for example we can set the initial state to [-1/np.sqrt(2), -1/np.sqrt(2)] and when measured this will always read 0. For the second is pretty much the same because that's what you are doing by using Hadamard gate twice after starting with 0, the end result will be the same."
   ]
  },
  {
   "cell_type": "markdown",
   "metadata": {},
   "source": [
    "### 3- Implement it in Qiskit."
   ]
  },
  {
   "cell_type": "code",
   "execution_count": 14,
   "metadata": {},
   "outputs": [
    {
     "name": "stdout",
     "output_type": "stream",
     "text": [
      "Setting initial state\n",
      "player won  0 times\n",
      "simplified version\n",
      "state is valid  True\n",
      "{'0': 2048}\n",
      "simplified version\n",
      "{'0': 2048}\n"
     ]
    }
   ],
   "source": [
    "from qiskit import *\n",
    "from qiskit_aer import Aer\n",
    "from qiskit.quantum_info import Statevector\n",
    "import numpy as np\n",
    "\n",
    "def coin_toss():\n",
    "    qbit = QuantumRegister(1, 'qubit')\n",
    "    cbit = ClassicalRegister(1, 'classical')\n",
    "    qc = QuantumCircuit(qbit,cbit)\n",
    "    initial_state = [-1/np.sqrt(2), -1/np.sqrt(2)]\n",
    "    qc.initialize(initial_state, 0)\n",
    "    qc.h(0)\n",
    "    res = qc.measure(0,0)\n",
    "    simulator = Aer.get_backend('qasm_simulator')\n",
    "    circ = transpile(qc, simulator)\n",
    "    result = simulator.run(circ, shots=1).result()\n",
    "    counts = result.get_counts(circ)\n",
    "    if '0' in counts:\n",
    "        return 0\n",
    "    else:\n",
    "        return 1\n",
    "\n",
    "def play_game():\n",
    "    computer_bet = 0\n",
    "    player_bet = 1\n",
    "    \n",
    "    # computer plays:\n",
    "    coin_val = coin_toss()\n",
    "\n",
    "    # player plays\n",
    "    if coin_val == computer_bet: \n",
    "        coin_val = coin_toss()\n",
    "\n",
    "        #computer plays\n",
    "        if coin_val == player_bet:\n",
    "            coin_val = coin_toss()\n",
    "  \n",
    "    \n",
    "    return coin_val\n",
    "\n",
    "print(\"Setting initial state\")\n",
    "n = 0\n",
    "for _ in range(100):\n",
    "    val = play_game()\n",
    "    n += val\n",
    "\n",
    "print(\"player won \", n, \"times\")\n",
    "\n",
    "## Simplified version: \n",
    "print(\"simplified version\")\n",
    "qbit = QuantumRegister(1, 'qubit')\n",
    "cbit = ClassicalRegister(1, 'classical')\n",
    "qc = QuantumCircuit(qbit,cbit)\n",
    "initial_state = Statevector([1/np.sqrt(2), 1/np.sqrt(2)])\n",
    "print(\"state is valid \", initial_state.is_valid())\n",
    "qc.initialize(initial_state, 0)\n",
    "qc.h(0)\n",
    "res = qc.measure(0,0)\n",
    "simulator = Aer.get_backend('qasm_simulator')\n",
    "circ = transpile(qc, simulator)\n",
    "result = simulator.run(circ, shots=2048).result()\n",
    "counts = result.get_counts(circ)\n",
    "print(counts)\n",
    "\n",
    "## Two Hadamard version:\n",
    "print(\"simplified version\")\n",
    "qbit = QuantumRegister(1, 'qubit')\n",
    "cbit = ClassicalRegister(1, 'classical')\n",
    "qc = QuantumCircuit(qbit,cbit)\n",
    "initial_state = 0\n",
    "qc.initialize(initial_state, 0)\n",
    "qc.h(0)\n",
    "qc.h(0)\n",
    "res = qc.measure(0,0)\n",
    "simulator = Aer.get_backend('qasm_simulator')\n",
    "circ = transpile(qc, simulator)\n",
    "result = simulator.run(circ, shots=2048).result()\n",
    "counts = result.get_counts(circ)\n",
    "print(counts)"
   ]
  },
  {
   "cell_type": "markdown",
   "metadata": {},
   "source": [
    "### 4- What happens if you play with a biased coin?"
   ]
  },
  {
   "cell_type": "markdown",
   "metadata": {},
   "source": [
    "#### Answer:\n",
    "If one plays with a biased coin, say the example given of initial state: [-1/np.sqrt(2), -1/np.sqrt(2)] the result will always be the same, 0. The same is true for a state that would always convert to 1 such as [1/np.sqrt(2), -1/np.sqrt(2)]. Also there are initial state combinations where this won`t always be true, but extremly probable such as: [np.sqrt(3)/2,np.e**(1j*np.pi)/2] "
   ]
  },
  {
   "cell_type": "code",
   "execution_count": 53,
   "metadata": {},
   "outputs": [
    {
     "name": "stdout",
     "output_type": "stream",
     "text": [
      "Regular game\n",
      "{'0': 119, '1': 1929}\n"
     ]
    }
   ],
   "source": [
    "## Biased coin being tossed\n",
    "print(\"Regular game\")\n",
    "qbit = QuantumRegister(1, 'qubit')\n",
    "cbit = ClassicalRegister(1, 'classical')\n",
    "qc = QuantumCircuit(qbit,cbit)\n",
    "initial_state = [np.sqrt(3)/2,np.e**(1j*np.pi)/2] \n",
    "qc.initialize(initial_state, 0)\n",
    "qc.h(0)\n",
    "res = qc.measure(0,0)\n",
    "simulator = Aer.get_backend('qasm_simulator')\n",
    "circ = transpile(qc, simulator)\n",
    "result = simulator.run(circ, shots=2048).result()\n",
    "counts = result.get_counts(circ)\n",
    "print(counts)"
   ]
  },
  {
   "cell_type": "code",
   "execution_count": 50,
   "metadata": {},
   "outputs": [
    {
     "name": "stdout",
     "output_type": "stream",
     "text": [
      "Double Hadamard strategy\n",
      "{'1': 517, '0': 1531}\n"
     ]
    }
   ],
   "source": [
    "print(\"Double Hadamard strategy\")\n",
    "qbit = QuantumRegister(1, 'qubit')\n",
    "cbit = ClassicalRegister(1, 'classical')\n",
    "qc = QuantumCircuit(qbit,cbit)\n",
    "initial_state = [np.sqrt(3)/2,np.e**(1j*np.pi)/2] \n",
    "qc.initialize(initial_state, 0)\n",
    "qc.h(0)\n",
    "qc.h(0)\n",
    "res = qc.measure(0,0)\n",
    "simulator = Aer.get_backend('qasm_simulator')\n",
    "circ = transpile(qc, simulator)\n",
    "result = simulator.run(circ, shots=2048).result()\n",
    "counts = result.get_counts(circ)\n",
    "print(counts)"
   ]
  },
  {
   "cell_type": "markdown",
   "metadata": {},
   "source": [
    "### 5- What happens if instead of starting with 0 you would start with a 1?"
   ]
  },
  {
   "cell_type": "markdown",
   "metadata": {},
   "source": [
    "#### Answer:\n",
    "If starting with 1 instead of zero the state of superposition would be: [1/np.sqrt(2), -1/np.sqrt(2)] which would leave each coin toss with the regular 50% chance, so the rest of the game would play out as normal. If we are using the computer always win strategy for a fixed initial state like 1 And we apply Hadamard gate twice then the result will always be 1 and player will always win"
   ]
  }
 ],
 "metadata": {
  "kernelspec": {
   "display_name": "Python 3",
   "language": "python",
   "name": "python3"
  },
  "language_info": {
   "codemirror_mode": {
    "name": "ipython",
    "version": 3
   },
   "file_extension": ".py",
   "mimetype": "text/x-python",
   "name": "python",
   "nbconvert_exporter": "python",
   "pygments_lexer": "ipython3",
   "version": "3.12.2"
  }
 },
 "nbformat": 4,
 "nbformat_minor": 2
}
